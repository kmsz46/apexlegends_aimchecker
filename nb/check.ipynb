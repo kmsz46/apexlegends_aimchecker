{
 "cells": [
  {
   "cell_type": "markdown",
   "id": "actual-entertainment",
   "metadata": {},
   "source": [
    "# <center>挙動を確認するためのノートブック</center>"
   ]
  },
  {
   "cell_type": "code",
   "execution_count": null,
   "id": "dried-flexibility",
   "metadata": {},
   "outputs": [],
   "source": [
    "# 使用するライブラリ\n",
    "import os\n",
    "import cv2\n",
    "import pyocr\n",
    "import pyocr.builders\n",
    "import numpy as np\n",
    "from PIL import Image\n",
    "import time\n",
    "from tqdm import tqdm\n",
    "from moviepy.editor import *\n",
    "import sys"
   ]
  },
  {
   "cell_type": "markdown",
   "id": "secret-brand",
   "metadata": {},
   "source": [
    "### 動画データの読み込みの挙動を確認する"
   ]
  },
  {
   "cell_type": "code",
   "execution_count": null,
   "id": "finished-fleet",
   "metadata": {},
   "outputs": [
    {
     "name": "stdout",
     "output_type": "stream",
     "text": [
      "<class 'numpy.ndarray'>\n",
      "None\n",
      "<VideoCapture 0x16b385eb0>\n",
      "<class 'cv2.VideoCapture'>\n",
      "True\n"
     ]
    }
   ],
   "source": [
    "# ファイルの読み込み\n",
    "read_file = cv2.VideoCapture('../movie_data/rensyu.mp4')\n",
    "\n",
    "\n",
    "ret, in_frame = read_file.read()\n",
    "\n",
    "print(type(in_frame))\n",
    "\n",
    "img = cv2.imshow('in_frame',in_frame)\n",
    "\n",
    "print(img)\n",
    "\n",
    "print(read_file)\n",
    "\n",
    "print(type(read_file))\n",
    "\n",
    "# ファイルが開けているかの確認\n",
    "print(read_file.isOpened())\n",
    "\n",
    "read_file.release()"
   ]
  },
  {
   "cell_type": "markdown",
   "id": "choice-stake",
   "metadata": {},
   "source": [
    "### 動画から1フレームごとのデータを取得するためのコード"
   ]
  },
  {
   "cell_type": "code",
   "execution_count": null,
   "id": "received-conservative",
   "metadata": {},
   "outputs": [],
   "source": [
    "# ※このコードをベースの処理を記述していきます\n",
    "read_file = cv2.VideoCapture('../movie_data/rensyu.mp4')\n",
    "\n",
    "while True:\n",
    "    ret, frame = read_file.read()\n",
    "    if not ret:\n",
    "        break\n",
    "\n",
    "read_file.release()"
   ]
  },
  {
   "cell_type": "markdown",
   "id": "burning-copyright",
   "metadata": {},
   "source": [
    "### 指定したフレームの呼び出し"
   ]
  },
  {
   "cell_type": "code",
   "execution_count": null,
   "id": "sunset-suggestion",
   "metadata": {},
   "outputs": [
    {
     "name": "stdout",
     "output_type": "stream",
     "text": [
      "29.97002997002997\n"
     ]
    }
   ],
   "source": [
    "read_file = cv2.VideoCapture('../movie_data/rensyu.mp4')\n",
    "\n",
    "# FPSの取得\n",
    "v_fps=read_file.get(cv2.CAP_PROP_FPS)\n",
    "print(v_fps)\n",
    "#  読み込んだ動画のFPSを基準にすることで、FPSが異なる場合でも対応化\n",
    "read_file.set(cv2.CAP_PROP_POS_FRAMES, round(v_fps * 1))\n",
    "\n",
    "ret, frame = read_file.read()\n",
    "\n",
    "cv2.imshow('frame',frame)"
   ]
  },
  {
   "cell_type": "markdown",
   "id": "quality-certification",
   "metadata": {},
   "source": [
    "### 動画の時間等各種情報を取得する"
   ]
  },
  {
   "cell_type": "code",
   "execution_count": null,
   "id": "demanding-bidding",
   "metadata": {},
   "outputs": [
    {
     "name": "stdout",
     "output_type": "stream",
     "text": [
      "全フレーム数：1393.0\n",
      "FPS:29.97002997002997\n",
      "動画の長さ:46.47976666666667\n"
     ]
    }
   ],
   "source": [
    "read_file = cv2.VideoCapture('../movie_data/rensyu.mp4')\n",
    "# フレーム数を取得する\n",
    "v_frame_cnt = read_file.get(cv2.CAP_PROP_FRAME_COUNT)\n",
    "# フレームレートを取得する\n",
    "v_fps=read_file.get(cv2.CAP_PROP_FPS)\n",
    "# 確認\n",
    "print(\"全フレーム数：\"+str(v_frame_cnt))\n",
    "print(\"FPS:\"+str(v_fps))\n",
    "# フレーム数をフレームレートで割って動画時間を取得する\n",
    "len_sec = v_frame_cnt/v_fps\n",
    "# 用意している動画は約43秒なので、43になっていれば成功\n",
    "print(\"動画の長さ:\"+str(len_sec))\n",
    "read_file.release()"
   ]
  },
  {
   "cell_type": "markdown",
   "id": "still-payday",
   "metadata": {},
   "source": [
    "### 銃の段数の部分を読み取るコード(実行後、赤枠で弾数部分が囲まれていたら成功)"
   ]
  },
  {
   "cell_type": "code",
   "execution_count": null,
   "id": "saved-isolation",
   "metadata": {},
   "outputs": [],
   "source": [
    "# 認識範囲\n",
    "xmin,xmax = 1145,1190\n",
    "ymin,ymax = 640,666\n",
    "\n",
    "read_file = cv2.VideoCapture('../movie_data/rensyu.mp4')\n",
    "\n",
    "#　背景オブジェクト\n",
    "fgbg = cv2.bgsegm.createBackgroundSubtractorMOG()\n",
    "\n",
    "# 一つ前のフレームを初期化しておく\n",
    "ret, in_frame = read_file.read()\n",
    "\n",
    "# 弾数の部分を初期化する\n",
    "in_detframe = in_frame[ymin:ymax,xmin:xmax]\n",
    "\n",
    "# 動画から１フレームずつを読み込む\n",
    "while True:\n",
    "    ret, frame = read_file.read()\n",
    "    if not ret:\n",
    "        break\n",
    "    # 他のサイズの動画が読み込まれた場合でもサイズを変更して処理できるようにしておく\n",
    "    frame = cv2.resize(frame,dsize=(1280,720))\n",
    "    # 弾数が減っている部分を切り出している\n",
    "    detframe = frame[ymin:ymax,xmin:xmax]\n",
    "    cv2.rectangle(frame,(xmin,ymin),(xmax,ymax),(0,0,255),2)\n",
    "    fgmask = fgbg.apply(detframe)\n",
    "    \n",
    "    cv2.imshow('frame',frame)\n",
    "    \n",
    "    \n",
    "    # qを入力すると途中で終わるようにしておく\n",
    "    if cv2.waitKey(1) & 0xFF == ord('q'):\n",
    "        break\n",
    "    \n",
    "read_file.release()"
   ]
  },
  {
   "cell_type": "markdown",
   "id": "resistant-greensboro",
   "metadata": {},
   "source": [
    "### 1フレームから数字を得る関数get_numの作成"
   ]
  },
  {
   "cell_type": "code",
   "execution_count": null,
   "id": "laden-queens",
   "metadata": {},
   "outputs": [],
   "source": [
    "def get_num(frame):\n",
    "    bgr2rgb = cv2.cvtColor(frame,cv2.COLOR_BGR2RGB)\n",
    "    to_PIL = Image.fromarray(bgr2rgb)\n",
    "    tools = pyocr.get_available_tools()\n",
    "    if len(tools) == 0:\n",
    "        print(\"No OCR tool\")\n",
    "    \n",
    "    tool = tools[0]\n",
    "    lang = 'eng'\n",
    "\n",
    "    text = tool.image_to_string(\n",
    "    Image.fromarray(bgr2rgb),\n",
    "    lang=lang,\n",
    "    builder=pyocr.builders.DigitBuilder()\n",
    "    #builder=pyocr.builders.TextBuilder(tesseract_layout=6)\n",
    "    )\n",
    "    \n",
    "    if text == '':\n",
    "        text = '-'\n",
    "    else:\n",
    "        text = int(text)\n",
    "    \n",
    "    return text"
   ]
  },
  {
   "cell_type": "markdown",
   "id": "provincial-fruit",
   "metadata": {},
   "source": [
    "### 動画から数字等各種データをまとめたリストを取得する関数"
   ]
  },
  {
   "cell_type": "code",
   "execution_count": null,
   "id": "norman-fireplace",
   "metadata": {},
   "outputs": [],
   "source": [
    "def make_data(read_name):\n",
    "    # データを格納するための配列\n",
    "    battle_data = []\n",
    "    # 認識範囲\n",
    "    xmin,xmax = 1145,1190\n",
    "    ymin,ymax = 640,666\n",
    "    \n",
    "    \n",
    "    read_file = cv2.VideoCapture(read_name)\n",
    "\n",
    "    # フレーム数のカウント\n",
    "    frame_cnt = 0\n",
    "    frame_num = int(read_file.get(cv2.CAP_PROP_FRAME_COUNT))\n",
    "    fps = read_file.get(cv2.CAP_PROP_FPS)\n",
    "    time_stamp = 0\n",
    "   \n",
    "    add_time = 1/fps\n",
    "    \n",
    "    # 真偽値\n",
    "    tf = 0\n",
    "    \n",
    "    # errorの初期化\n",
    "    error = 0\n",
    "    \n",
    "    for i in tqdm(range(frame_num)):\n",
    "        ret, frame = read_file.read()\n",
    "        # 初期化 1次元の[数字,フレーム数,真偽値]\n",
    "        num = []\n",
    "        if not ret:\n",
    "            break\n",
    "        frame = cv2.resize(frame,dsize=(1280,720))\n",
    "        # 弾数が減っている部分を切り出している\n",
    "        bullet_num = frame[ymin:ymax,xmin:xmax]\n",
    "\n",
    "        detframe = cv2.bitwise_not(bullet_num)\n",
    "\n",
    "        # 関数get_numを呼び出して数字をカウントしていく(30フレームおきに)\n",
    "        if i%30 == 0:\n",
    "            number = get_num(detframe)        \n",
    "            # 誤差についての計算\n",
    "            if frame_cnt != 0:\n",
    "                # エラーの算出\n",
    "                error = detframe.astype(int) - before_frame.astype(int)\n",
    "                error = error.max()\n",
    "            \n",
    "        # 一次元配列に格納\n",
    "        num.append(number)    # 数字\n",
    "        num.append(frame_cnt)    # フレーム数\n",
    "        num.append(tf)    # 真偽値\n",
    "        num.append(error)\n",
    "        num.append(time_stamp)\n",
    "\n",
    "        # 二次元配列に格納\n",
    "        battle_data.append(num)\n",
    "\n",
    "        # フレーム数を増やす\n",
    "        frame_cnt+=1\n",
    "        time_stamp+=add_time\n",
    "        before_frame = detframe\n",
    "\n",
    "    read_file.release()\n",
    "    \n",
    "    return battle_data"
   ]
  },
  {
   "cell_type": "markdown",
   "id": "tough-vitamin",
   "metadata": {},
   "source": [
    "### 戦闘しているかどうかを判定するアルゴリズムの関数"
   ]
  },
  {
   "cell_type": "code",
   "execution_count": null,
   "id": "sustainable-document",
   "metadata": {},
   "outputs": [],
   "source": [
    "# 射撃シーン判定アルゴリズム\n",
    "def battle_cut(db):    # db=[num,frame_num,tf]\n",
    "    # frame数,現在のフレームをカウントする変数\n",
    "    frame_len = len(db)\n",
    "    frame_cnt = 0\n",
    "    battle_true = 1    # battleしていると判断したものはtfを1に変換する\n",
    "    keep_num = 0    # 数字を保持しておくための変数\n",
    "    rainbow_cnt = 150    # カットするためのフレーム数の定義７フレーム動いていないと撃っていないと判断する\n",
    "    start_late = 15  # 打ち始めを考慮したフレーム数\n",
    "    # battle判定\n",
    "    while True:\n",
    "        if frame_cnt >= frame_len:\n",
    "            break\n",
    "        keep_num = db[frame_cnt][0]        # 現在のフレームの時の弾数を格納しておく\n",
    "        start_point = 0    # 打ち始めるポイント\n",
    "        conti_cnt=0\n",
    "        if db[frame_cnt][0] != \"-\" and db[frame_cnt][3] > 5:        # 数字を検知していないところはカット\n",
    "            while True:    # 同じ数字が何回続いたかをカウントする\n",
    "                conti_cnt+=1\n",
    "                if frame_cnt+conti_cnt >=frame_len:\n",
    "                    break\n",
    "                if keep_num != db[frame_cnt+conti_cnt][0]:\n",
    "                    break\n",
    "            start_point = frame_cnt-start_late\n",
    "            for i in range(rainbow_cnt+start_late):\n",
    "                if frame_cnt+i >=frame_len:\n",
    "                    break\n",
    "                db[start_point+i][2] = int(1)\n",
    "            frame_cnt+=conti_cnt\n",
    "        else:\n",
    "            frame_cnt+=1\n",
    "    return db"
   ]
  },
  {
   "cell_type": "markdown",
   "id": "clinical-suicide",
   "metadata": {},
   "source": [
    "### 編集後の切り抜き動画を出力する関数"
   ]
  },
  {
   "cell_type": "code",
   "execution_count": null,
   "id": "norman-machinery",
   "metadata": {},
   "outputs": [],
   "source": [
    "# 動画を作成する関数\n",
    "def capture(read_name,cut_data,write_name):\n",
    "    # 映像の呼び出し\n",
    "    clip = VideoFileClip(read_name) \n",
    "    # 音声の呼び出し\n",
    "    audio = AudioFileClip(read_name)\n",
    "    \n",
    "    # 映像と音声の結び付け\n",
    "    clip = clip.set_audio(audio)\n",
    "    \n",
    "    start_time = 0\n",
    "    flag = 0\n",
    "    stop_time =0\n",
    "    cut_cnt = 0\n",
    "    \n",
    "    fin = clip.subclip(0,0.0000001)\n",
    "    \n",
    "    for i in cut_data:\n",
    "        if i[2] == 1 and flag == 0:\n",
    "            start_time = i[4]\n",
    "            flag = 1\n",
    "        if i[2] == 0 and flag == 1:\n",
    "            stop_time = i[4]\n",
    "            flag = 0\n",
    "            clip_tmp = clip.subclip(start_time,stop_time)\n",
    "            audio_tmp = audio.subclip(start_time,stop_time)\n",
    "            clip_tmp = clip_tmp.set_audio(audio_tmp)\n",
    "            fin = concatenate_videoclips([fin,clip_tmp])\n",
    "            \n",
    "    fin.write_videofile(write_name,\n",
    "                                     codec='libx264',\n",
    "                                     audio_codec='aac',\n",
    "                                     temp_audiofile='temp-audio.m4a',\n",
    "                                     remove_temp=True)\n",
    "    \n",
    "    return"
   ]
  }
 ],
 "metadata": {
  "kernelspec": {
   "display_name": "Python 3.8.7 64-bit ('3.8.7')",
   "language": "python",
   "name": "python3"
  },
  "language_info": {
   "name": "python",
   "version": "3.8.7"
  },
  "orig_nbformat": 4,
  "vscode": {
   "interpreter": {
    "hash": "8911b5259dbd0d8efc3a898771700f5079b7f4dde0a0fd81fa26f998601e80ea"
   }
  }
 },
 "nbformat": 4,
 "nbformat_minor": 2
}
