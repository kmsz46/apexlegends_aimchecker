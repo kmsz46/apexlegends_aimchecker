{
 "cells": [
  {
   "cell_type": "markdown",
   "metadata": {},
   "source": [
    "# <center>人物チェックによるエイムチェックシステム</center>"
   ]
  },
  {
   "cell_type": "code",
   "execution_count": null,
   "metadata": {},
   "outputs": [],
   "source": [
    "import torch\n",
    "import torchvision\n",
    "from PIL import Image, ImageDraw\n",
    "from torchvision import models as models\n",
    "from torchvision import transforms as transforms\n",
    "from matplotlib import pyplot as plt\n",
    "import matplotlib.pyplot as plt\n",
    "\n",
    "device = torch.device(\"cuda\" if torch.cuda.is_available() else \"cpu\")\n",
    "\n",
    "\n",
    "# モデルを作成する。\n",
    "model = models.detection.fasterrcnn_resnet50_fpn(pretrained=True).to(device)\n",
    "model.eval()"
   ]
  },
  {
   "cell_type": "code",
   "execution_count": null,
   "metadata": {},
   "outputs": [],
   "source": [
    "# 中心を切り取る関数\n",
    "def crop_center(pil_img, crop_width, crop_height):\n",
    "    img_width, img_height = pil_img.size\n",
    "    return pil_img.crop(((img_width - crop_width) // 2,\n",
    "                         (img_height - crop_height) // 2,\n",
    "                         (img_width + crop_width) // 2,\n",
    "                         (img_height + crop_height) // 2))\n",
    "\n",
    "# \n",
    "def detection(file_name):\n",
    "    # 画像を読み込む\n",
    "    img = Image.open(file_name).convert('RGB')\n",
    "    img = crop_center(img,800,600)\n",
    "    img_tensor = transforms.functional.to_tensor(img).to(device)\n",
    "\n",
    "    # 推論する。\n",
    "    output = model([img_tensor])[0]\n",
    "\n",
    "    # ラベル「人」かつスコアが 0.8 以上の矩形を取り出す。\n",
    "    PERSON_ID = 1\n",
    "    cond = (output[\"labels\"] == PERSON_ID) & (output[\"scores\"] >= 0.4)\n",
    "    person_boxes = output[\"boxes\"][cond].detach().cpu().numpy()\n",
    "    #print(person_boxes)\n",
    "\n",
    "    draw = ImageDraw.Draw(img, mode=\"RGBA\")\n",
    "\n",
    "    high = 0\n",
    "    wide   = 0\n",
    "    for box in person_boxes:\n",
    "        high = (box[0] + box[1]) / 2 \n",
    "        wide = (box[2] + box[3]) / 2\n",
    "        draw.rectangle(box, outline=\"red\", width=3)\n",
    "    print(high,wide)\n",
    "    print(type(person_boxes))\n",
    "    print(person_boxes[0])\n",
    "\n",
    "    plt.imshow(img)\n",
    "    plt.show()\n",
    "    \n",
    "    return"
   ]
  },
  {
   "cell_type": "markdown",
   "metadata": {},
   "source": [
    "### 画像の出力"
   ]
  },
  {
   "cell_type": "code",
   "execution_count": null,
   "metadata": {},
   "outputs": [],
   "source": [
    "detection(\"sample.PNG\")"
   ]
  },
  {
   "cell_type": "code",
   "execution_count": null,
   "metadata": {},
   "outputs": [],
   "source": [
    "detection(\"sample1.PNG\")"
   ]
  }
 ],
 "metadata": {
  "kernelspec": {
   "display_name": "Python 3.8.7 64-bit ('3.8.7')",
   "language": "python",
   "name": "python3"
  },
  "language_info": {
   "name": "python",
   "version": "3.8.7"
  },
  "orig_nbformat": 4,
  "vscode": {
   "interpreter": {
    "hash": "8911b5259dbd0d8efc3a898771700f5079b7f4dde0a0fd81fa26f998601e80ea"
   }
  }
 },
 "nbformat": 4,
 "nbformat_minor": 2
}
